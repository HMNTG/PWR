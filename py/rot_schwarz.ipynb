{
 "cells": [
  {
   "cell_type": "code",
   "execution_count": 1,
   "id": "90a432f4",
   "metadata": {},
   "outputs": [
    {
     "name": "stdout",
     "output_type": "stream",
     "text": [
      "[[1. 0. 0. 0. 0. 0.]\n",
      " [0. 0. 0. 1. 0. 0.]\n",
      " [0. 1. 0. 0. 0. 0.]\n",
      " [0. 0. 0. 0. 1. 0.]\n",
      " [0. 0. 1. 0. 0. 0.]\n",
      " [0. 0. 0. 0. 0. 1.]]\n",
      "[[ 4.  0.  0. -1.  1.  0.]\n",
      " [ 0.  4.  0. -1.  0.  1.]\n",
      " [ 0.  0.  4.  1. -1. -1.]\n",
      " [-1. -1.  1.  4.  0.  0.]\n",
      " [ 1.  0. -1.  0.  4.  0.]\n",
      " [ 0.  1. -1.  0.  0.  4.]]\n"
     ]
    }
   ],
   "source": [
    "import numpy as np\n",
    "\n",
    "m=2; n=3\n",
    "rs = np.zeros((m,n))\n",
    "perm = []\n",
    "count_red = 0\n",
    "count_black = m * n / 2\n",
    "for i in range(m):\n",
    "    for j in range(n):\n",
    "        if not (i+j)%2:\n",
    "            rs[i][j] = count_red\n",
    "            perm.append(count_red)\n",
    "            count_red += 1\n",
    "        else:\n",
    "            rs[i][j] = count_black\n",
    "            perm.append(count_black)\n",
    "            count_black += 1\n",
    "\n",
    "perm = np.array([int(i) for i in perm])\n",
    "P = np.eye(6)[perm]\n",
    "print(P)\n",
    "\n",
    "A = np.array([\n",
    "    [ 4,-1, 0, 1, 0, 0],\n",
    "    [-1, 4,-1, 0, 1, 0],\n",
    "    [ 0,-1, 4, 0, 0, 1],\n",
    "    [ 1, 0, 0, 4,-1, 0],\n",
    "    [ 0, 1, 0,-1, 4,-1],\n",
    "    [ 0, 0, 1, 0,-1, 4]\n",
    "])\n",
    "\n",
    "A_hat = P.T @ A @ P\n",
    "print(A_hat)"
   ]
  },
  {
   "cell_type": "code",
   "execution_count": 6,
   "id": "2520ea3d",
   "metadata": {},
   "outputs": [
    {
     "data": {
      "text/plain": [
       "array([[0., 3., 1.],\n",
       "       [4., 2., 5.]])"
      ]
     },
     "execution_count": 6,
     "metadata": {},
     "output_type": "execute_result"
    }
   ],
   "source": [
    "rs"
   ]
  },
  {
   "cell_type": "code",
   "execution_count": 11,
   "id": "18d8c6b1",
   "metadata": {},
   "outputs": [
    {
     "data": {
      "text/plain": [
       "array([1., 1., 1., 1., 1., 1.])"
      ]
     },
     "execution_count": 11,
     "metadata": {},
     "output_type": "execute_result"
    }
   ],
   "source": [
    "b = np.array([1 for i in range(6)])\n",
    "b_hat = P.T @ b\n",
    "b_hat"
   ]
  },
  {
   "cell_type": "code",
   "execution_count": null,
   "id": "03e7cc33",
   "metadata": {},
   "outputs": [
    {
     "data": {
      "text/plain": [
       "array([[4., 0., 0.],\n",
       "       [0., 4., 0.],\n",
       "       [0., 0., 4.]])"
      ]
     },
     "execution_count": 17,
     "metadata": {},
     "output_type": "execute_result"
    }
   ],
   "source": [
    "Dr = A_hat[0:3, 0:3]\n",
    "Dr"
   ]
  },
  {
   "cell_type": "code",
   "execution_count": 18,
   "id": "e5eb8cb7",
   "metadata": {},
   "outputs": [
    {
     "data": {
      "text/plain": [
       "array([[4., 0., 0.],\n",
       "       [0., 4., 0.],\n",
       "       [0., 0., 4.]])"
      ]
     },
     "execution_count": 18,
     "metadata": {},
     "output_type": "execute_result"
    }
   ],
   "source": [
    "Ds = A_hat[3:6, 3:6]\n",
    "Ds"
   ]
  },
  {
   "cell_type": "code",
   "execution_count": 20,
   "id": "deb20978",
   "metadata": {},
   "outputs": [
    {
     "data": {
      "text/plain": [
       "array([[-1., -1.,  1.],\n",
       "       [ 1.,  0., -1.],\n",
       "       [ 0.,  1., -1.]])"
      ]
     },
     "execution_count": 20,
     "metadata": {},
     "output_type": "execute_result"
    }
   ],
   "source": [
    "E = A_hat[3:6, 0:3]\n",
    "F = A_hat[0:3, 3:6]\n",
    "E"
   ]
  },
  {
   "cell_type": "code",
   "execution_count": null,
   "id": "bc8c0a91",
   "metadata": {},
   "outputs": [],
   "source": []
  }
 ],
 "metadata": {
  "kernelspec": {
   "display_name": "csenv",
   "language": "python",
   "name": "python3"
  },
  "language_info": {
   "codemirror_mode": {
    "name": "ipython",
    "version": 3
   },
   "file_extension": ".py",
   "mimetype": "text/x-python",
   "name": "python",
   "nbconvert_exporter": "python",
   "pygments_lexer": "ipython3",
   "version": "3.10.17"
  }
 },
 "nbformat": 4,
 "nbformat_minor": 5
}
